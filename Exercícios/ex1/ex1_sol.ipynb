{
 "cells": [
  {
   "cell_type": "markdown",
   "metadata": {},
   "source": [
    "# Aprendizado por Reforço\n",
    "## Exercı́cio 1: Programação Dinâmica\n",
    "### Nome (Matricula)"
   ]
  },
  {
   "cell_type": "code",
   "execution_count": 25,
   "metadata": {
    "scrolled": false
   },
   "outputs": [
    {
     "name": "stdout",
     "output_type": "stream",
     "text": [
      "Help on module ex1:\n",
      "\n",
      "NAME\n",
      "    ex1 - ELE2761 Exercise 1: Dynamic Programming.\n",
      "\n",
      "DESCRIPTION\n",
      "    Implements the provided functionality to be used in your solution.\n",
      "    \n",
      "    FUNCTIONS\n",
      "        gridworld    -- Grid world environment.\n",
      "        observations -- Efficiency analysis.\n",
      "        plotv        -- Value function plotting.\n",
      "\n",
      "FUNCTIONS\n",
      "    gridworld(s, a)\n",
      "        Grid world from Sutton & Barto, example 3.8.\n",
      "        \n",
      "        r, sp = gridworld(s, a) returns the reward r and next state sp when\n",
      "        starting in state s and taking action a. 0 <= s, sp < 25, 0 <= a < 4\n",
      "        \n",
      "        ACTIONS\n",
      "            0 -- up\n",
      "            1 -- down\n",
      "            2 -- right\n",
      "            3 -- left\n",
      "    \n",
      "    observations()\n",
      "        Returns number of gridworld observations since last call.\n",
      "        \n",
      "        NOTE\n",
      "            Make sure to reset the count by calling this function before\n",
      "            calling the function you want to analyse.\n",
      "    \n",
      "    plotv(v)\n",
      "        Plot grid world value function and induced policy.\n",
      "        \n",
      "        plotv(v) plots the grid world value function v and its induced policy.\n",
      "        \n",
      "        NOTE\n",
      "            If multiple actions are optimal, only one is plotted.\n",
      "\n",
      "FILE\n",
      "    c:\\users\\gabriel\\documents\\0-estudos\\doutorado\\reinforcement learning\\ex1\\ex1.py\n",
      "\n",
      "\n"
     ]
    }
   ],
   "source": [
    "import numpy as np\n",
    "import copy, ex1\n",
    "from ex1 import gridworld, plotv, observations\n",
    "\n",
    "help(ex1)"
   ]
  },
  {
   "cell_type": "markdown",
   "metadata": {},
   "source": [
    "**Exercise 1.1** Implement policy evaluation for the grid world. Use $\\theta = 10^{−5}$ as\n",
    "the stopping criterion and $\\gamma = 0.9$."
   ]
  },
  {
   "cell_type": "code",
   "execution_count": 414,
   "metadata": {
    "scrolled": false
   },
   "outputs": [
    {
     "name": "stdout",
     "output_type": "stream",
     "text": [
      "observations: 3325\n"
     ]
    },
    {
     "data": {
      "image/png": "[encoded data removed]",
      "text/plain": [
       "<Figure size 432x288 with 1 Axes>"
      ]
     },
     "metadata": {
      "needs_background": "light"
     },
     "output_type": "display_data"
    }
   ],
   "source": [
    "#FUNÇÃO POLICY EVALUATION\n",
    "def policy_evaluation(policy, theta, gamma, value_old):\n",
    "    while True:\n",
    "        value_new = np.zeros(25) #novos valores de estados inicializados em 0 em cada sweep\n",
    "        delta = 0                #reinicializar erro do aprendizado\n",
    "        \n",
    "        for state in range(len(value_new)):   #loop de estados\n",
    "            reward, next_state = gridworld(state, policy[state])            #retorno do reward e próximo estado de cada ação no estado atual\n",
    "            value_new[state] = reward + gamma*value_old[next_state] #novo valor do estado é atualizado para cada ação calculada\n",
    "        #fim do loop de estados(sweep)\n",
    "        \n",
    "        delta = max(abs(value_new - value_old)) #calculo do erro relativo ao valor alcançado no sweep (ao se passar por todos os estados)\n",
    "\n",
    "        if delta < theta:      #se o erro é menor que o limiar (critério de parada), terminar o loop mais externo\n",
    "            break\n",
    "        \n",
    "        value_old = np.copy(value_new)\n",
    "        \n",
    "    return value_new, it\n",
    "\n",
    "\n",
    "###############################################################\n",
    "\n",
    "policy = np.full(25,0)   #política de ações (determinística)\n",
    "theta = 10**-5           #critério de parada\n",
    "gamma = 0.9              #valor de desconto\n",
    "value_old = np.zeros(25) #inicialização dos Valores de estados (V(s)) no vetor -> todos 0\n",
    "\n",
    "observations()\n",
    "\n",
    "value_map, it = policy_evaluation(policy, theta, gamma, value_old)\n",
    "\n",
    "print('observations: ' + str(observations()))\n",
    "\n",
    "plotv(value_new)           #plota o gridworld com seus respectivos estados e valores de estado"
   ]
  },
  {
   "cell_type": "markdown",
   "metadata": {},
   "source": [
    "<br>\n",
    "<br>\n",
    "<br>\n",
    "<br>"
   ]
  },
  {
   "cell_type": "markdown",
   "metadata": {},
   "source": [
    "**Exercise 1.2** Implement the policy improvement step, and run the algorithm. Verify that the results are the same as Figure 3.8 in the book (use `plotv`). How many observations did it take to converge?"
   ]
  },
  {
   "cell_type": "code",
   "execution_count": 419,
   "metadata": {
    "scrolled": false
   },
   "outputs": [
    {
     "name": "stdout",
     "output_type": "stream",
     "text": [
      "Não convergiu ainda!\n",
      "\n",
      "Não convergiu ainda!\n",
      "\n",
      "Não convergiu ainda!\n",
      "\n",
      "Não convergiu ainda!\n",
      "\n",
      "Convergiu!\n",
      "Observations: 6500\n"
     ]
    },
    {
     "data": {
      "image/png": "[encoded data removed]",
      "text/plain": [
       "<Figure size 432x288 with 1 Axes>"
      ]
     },
     "metadata": {
      "needs_background": "light"
     },
     "output_type": "display_data"
    }
   ],
   "source": [
    "#FUNÇÃO POLICY EVALUATION\n",
    "def policy_evaluation(policy, theta, gamma, value_old):\n",
    "\n",
    "    while True:\n",
    "        value_new = np.zeros(25) #novos valores de estados inicializados em 0 em cada sweep\n",
    "        delta = 0                #reinicializar erro do aprendizado\n",
    "        for state in range(len(value_new)):   #loop de estados\n",
    "            reward, next_state = gridworld(state, policy[state])            #retorno do reward e próximo estado de cada ação no estado atual\n",
    "            value_new[state] = reward + gamma*value_old[next_state] #novo valor do estado é atualizado para cada ação calculada \n",
    "        #fim do loop de estados(sweep)\n",
    "        delta = max(abs(value_new - value_old)) #calculo do erro relativo ao valor alcançado no sweep (ao se passar por todos os estados)\n",
    "        if delta < theta:      #se o erro é menor que o limiar, terminar o loop mais externo\n",
    "            break\n",
    "        value_old = np.copy(value_new)\n",
    "    return value_new\n",
    "\n",
    "\n",
    "#FUNÇÃO POLICY IMPROVEMENT\n",
    "def policy_improvement(policy, theta, gamma, value_old):\n",
    "    policy_new = np.zeros(len(value_old))\n",
    "    value_state = np.zeros(4)\n",
    "    \n",
    "    while True:\n",
    "        policy_stable = True\n",
    "        value = policy_evaluation(policy, theta, gamma, value_old)\n",
    "        \n",
    "        for state in range(len(value)):\n",
    "            old_action = policy[state]\n",
    "            \n",
    "            for action in range(4):\n",
    "                reward, next_state = gridworld(state, action)\n",
    "                value_state[action] = reward + gamma*value[next_state]\n",
    "            #fim do loop de ações\n",
    "            \n",
    "            policy_new[state] = np.argmax(value_state)\n",
    "            \n",
    "            if old_action != policy_new[state]:\n",
    "                policy_stable = False\n",
    "        #fim do loop de estados\n",
    "\n",
    "        if policy_stable:\n",
    "            print('Convergiu!')\n",
    "            return value, policy_new\n",
    "        else:\n",
    "            policy = np.copy(policy_new)\n",
    "            value_old = np.copy(value_new)\n",
    "            print('Não convergiu ainda!\\n')\n",
    "    \n",
    "\n",
    "############################################################\n",
    "\n",
    "policy = np.full(25,0)   #política de ações (determinística)\n",
    "theta = 10**-5           #critério de parada\n",
    "gamma = 0.9              #valor de desconto\n",
    "value_old = np.zeros(25) #inicialização dos Valores de estados (V(s)) no vetor -> todos 0\n",
    "\n",
    "observations()\n",
    "\n",
    "value_map , policy_new = policy_improvement(policy, theta, gamma, value_old)\n",
    "\n",
    "print('Observations: ' + str(observations()))\n",
    "\n",
    "plotv(value_map)"
   ]
  },
  {
   "cell_type": "markdown",
   "metadata": {},
   "source": [
    "Answer: \n",
    "\n",
    "It took 6500 observations to converge.\n",
    "<br>\n",
    "<br>\n",
    "<br>\n",
    "<br>"
   ]
  },
  {
   "cell_type": "markdown",
   "metadata": {},
   "source": [
    "**Exercise 1.3** Use a value of $\\gamma = 0.8$. What changes in the resulting policy? How about the required number of observations?"
   ]
  },
  {
   "cell_type": "code",
   "execution_count": 420,
   "metadata": {
    "scrolled": false
   },
   "outputs": [
    {
     "name": "stdout",
     "output_type": "stream",
     "text": [
      "Não convergiu ainda!\n",
      "\n",
      "\n",
      "Não convergiu ainda!\n",
      "\n",
      "\n",
      "Convergiu!\n",
      "Observations: 4725\n"
     ]
    },
    {
     "data": {
      "image/png": "[encoded data removed]",
      "text/plain": [
       "<Figure size 432x288 with 1 Axes>"
      ]
     },
     "metadata": {
      "needs_background": "light"
     },
     "output_type": "display_data"
    }
   ],
   "source": [
    "#FUNÇÃO POLICY EVALUATION\n",
    "def policy_evaluation(policy, theta, gamma, value_old):\n",
    "\n",
    "    while True:\n",
    "        value_new = np.zeros(25) #novos valores de estados inicializados em 0 em cada sweep\n",
    "        delta = 0                #reinicializar erro do aprendizado\n",
    "        for state in range(len(value_new)):   #loop de estados\n",
    "            reward, next_state = gridworld(state, policy[state])            #retorno do reward e próximo estado de cada ação no estado atual\n",
    "            value_new[state] = reward + gamma*value_old[next_state] #novo valor do estado é atualizado para cada ação calculada \n",
    "        #fim do loop de estados(sweep)\n",
    "        delta = max(abs(value_new - value_old)) #calculo do erro relativo ao valor alcançado no sweep (ao se passar por todos os estados)\n",
    "        if delta < theta:      #se o erro é menor que o limiar, terminar o loop mais externo\n",
    "            break\n",
    "        value_old = np.copy(value_new)\n",
    "    return value_new\n",
    "\n",
    "\n",
    "#FUNÇÃO POLICY IMPROVEMENT\n",
    "def policy_improvement(policy, theta, gamma, value_old):\n",
    "    policy_new = np.zeros(len(value_old))\n",
    "    value_state = np.zeros(4)\n",
    "    \n",
    "    while True:\n",
    "        policy_stable = True\n",
    "        value = policy_evaluation(policy, theta, gamma, value_old)\n",
    "        \n",
    "        for state in range(len(value)):\n",
    "            \n",
    "            old_action = policy[state]\n",
    "            \n",
    "            for action in range(4):\n",
    "                reward, next_state = gridworld(state, action)\n",
    "                value_state[action] = reward + gamma*value[next_state]\n",
    "            #fim do loop de ações\n",
    "            \n",
    "#             print('estado ' + str(state) + 'ANTES de argmax')#RETIRAR\n",
    "#             print(np.reshape(policy, (5,5)))#RETIRAR\n",
    "            policy_new[state] = np.argmax(value_state)   #COMPORTAMENTO ESTRANHO NESSA LINHA - POR ALGUM MOTIVO ELA ALTERA A VARIAVEL policy\n",
    "#             print('estado ' + str(state) + 'DEPOIS de argmax')#RETIRAR\n",
    "#             print(np.reshape(policy, (5,5)))#RETIRAR\n",
    "            \n",
    "            if old_action != policy_new[state]:\n",
    "                policy_stable = False\n",
    "            \n",
    "        #fim do loop de estados\n",
    "        \n",
    "#         print('Policy:' )                #linhas retiradas pelo comportamento estranho no loop de ações\n",
    "#         print(np.reshape(policy, (5,5))) #ao se atualizar policy_new, a variavel policy também é alterada\n",
    "     \n",
    "        if policy_stable:\n",
    "            print('Convergiu!')\n",
    "            return value, policy_new\n",
    "        else:\n",
    "            policy = np.copy(policy_new)\n",
    "            value_old = np.copy(value_new)\n",
    "            print('Não convergiu ainda!\\n\\n')\n",
    "    \n",
    "\n",
    "############################################################\n",
    "\n",
    "policy = np.full(25,0)   #política de ações (determinística)\n",
    "theta = 10**-5           #critério de parada\n",
    "gamma = 0.8              #valor de desconto\n",
    "value_old = np.zeros(25) #inicialização dos Valores de estados (V(s)) no vetor -> todos 0\n",
    "\n",
    "observations()\n",
    "\n",
    "value_map , policy_new = policy_improvement(policy, theta, gamma, value_old)\n",
    "\n",
    "print('Observations: ' + str(observations()))\n",
    "\n",
    "plotv(value_map)"
   ]
  },
  {
   "cell_type": "markdown",
   "metadata": {},
   "source": [
    "Answer:\n",
    "\n",
    "Like explained in the exercise 1 sheet, \"gamma is a measure of how much in the future the algorithm looks\". Therefore, decreasing this parameter, and with that, the ability to look as far in the future as exercise 1.2, the resulting policy changes in row 2, columns 4 and 5. The actions for those states now point up, \"missing\" a greater value in the future, found in state 1 (row 1, column 2).\n",
    "\n",
    "In comparison to exercise 1.2, The number of observations decreased. This happens due to the smaller gamma, that affects the maximum number of iterations needed to converge. A smaller gamma needs fewer iterations.There are 4725 observations now. \n",
    "<br>\n",
    "<br>\n",
    "<br>\n",
    "<br>\n"
   ]
  },
  {
   "cell_type": "markdown",
   "metadata": {},
   "source": [
    "**Exercise 1.4** Implement value iteration. Since plotv already computes $\\pi$ from $V$, you can skip the last two lines of Figure 4.5 in the book. Verify that the results are the same as using policy iteration. How many observations did it take this time?"
   ]
  },
  {
   "cell_type": "code",
   "execution_count": 425,
   "metadata": {},
   "outputs": [
    {
     "name": "stdout",
     "output_type": "stream",
     "text": [
      "Observations: 13300\n"
     ]
    },
    {
     "data": {
      "image/png": "[encoded data removed]",
      "text/plain": [
       "<Figure size 432x288 with 1 Axes>"
      ]
     },
     "metadata": {
      "needs_background": "light"
     },
     "output_type": "display_data"
    }
   ],
   "source": [
    "#FUNÇÃO VALUE ITERATION\n",
    "def value_iteration(theta, gamma, value_old):\n",
    "    value_new = np.zeros(25)  #novos valores de estados inicializados em 0\n",
    "    value_state = np.zeros(4) #valores para cada ação em cada estado\n",
    "    \n",
    "    while True:\n",
    "        delta = 0                 #reinicializar erro do aprendizado\n",
    "        \n",
    "        for state in range(len(value_new)):   #loop de valores\n",
    "            for action in range(len(value_state)):\n",
    "                reward, next_state = gridworld(state, action)              #retorno do reward e próximo estado de cada ação no estado atual\n",
    "                value_state[action] = reward + gamma*value_old[next_state] #valores do estado atual para cada ação \n",
    "            #fim do loop de ações\n",
    "            best_action = np.argmax(value_state)\n",
    "            value_new[state] = value_state[best_action]\n",
    "        #fim do loop de estados(sweep)\n",
    "        \n",
    "        delta = max(abs(value_new - value_old)) #calculo do erro relativo ao valor alcançado no sweep (ao se passar por todos os estados)\n",
    "        \n",
    "        if delta < theta:      #se o erro é menor que o limiar (critério de parada), terminar o loop mais externo\n",
    "            return value_new\n",
    "        \n",
    "        value_old = np.copy(value_new)\n",
    "    \n",
    "################################################################\n",
    "\n",
    "theta = 10**-5           #critério de parada\n",
    "gamma = 0.9              #valor de desconto\n",
    "value_old = np.zeros(25) #inicialização dos Valores de estados (V(s)) no vetor -> todos 0\n",
    "\n",
    "observations()\n",
    "\n",
    "value_map = value_iteration(theta, gamma, value_old)\n",
    "\n",
    "print('Observations: ' + str(observations()))\n",
    "\n",
    "plotv(value_map)\n"
   ]
  },
  {
   "cell_type": "markdown",
   "metadata": {},
   "source": [
    "Answer:\n",
    "\n",
    "The results are the same as policy iteration, using gamma = 0.8.\n",
    "\n",
    "It took 13300 observations to converge.\n",
    "<br>\n",
    "<br>\n",
    "<br>\n",
    "<br>"
   ]
  },
  {
   "cell_type": "markdown",
   "metadata": {},
   "source": [
    "**Exercise 1.5** Implement asynchronous value iteration by modifying your value iteration loop to have a fixed number of 250 iterations, and choosing s randomly for each iteration (use `randi`). Verify that only 1000 observations are made and compare the resulting $V$ with the $V^∗$ you found in the earlier exercises. Also compare the policies, and explain the results."
   ]
  },
  {
   "cell_type": "code",
   "execution_count": 433,
   "metadata": {
    "scrolled": false
   },
   "outputs": [
    {
     "name": "stdout",
     "output_type": "stream",
     "text": [
      "Observations: 1000\n"
     ]
    },
    {
     "data": {
      "image/png": "[encoded data removed]",
      "text/plain": [
       "<Figure size 432x288 with 1 Axes>"
      ]
     },
     "metadata": {
      "needs_background": "light"
     },
     "output_type": "display_data"
    }
   ],
   "source": [
    "#FUNÇÃO VALUE ITERATION\n",
    "def value_iteration(theta, gamma, value_old):\n",
    "    value_new = np.zeros(25)  #novos valores de estados inicializados em 0 em cada sweep\n",
    "    value_state = np.zeros(4) #valores para cada ação em cada estado\n",
    "\n",
    "    for state in range(250):   #loop de valores\n",
    "        state = np.random.randint(0, 25)\n",
    "        for action in range(len(value_state)):\n",
    "            reward, next_state = gridworld(state, action)              #retorno do reward e próximo estado de cada ação no estado atual\n",
    "            value_state[action] = reward + gamma*value_new[next_state] #valores do estado atual para cada ação \n",
    "        #fim do loop de ações\n",
    "        best_action = np.argmax(value_state)\n",
    "        value_new[state] = value_state[best_action]\n",
    "    #fim do loop de estados(sweep)\n",
    "\n",
    "    delta = max(abs(value_new - value_old)) #calculo do erro relativo ao valor alcançado no sweep (ao se passar por todos os estados)\n",
    "\n",
    "\n",
    "    return value_new\n",
    "\n",
    "    \n",
    "################################################################\n",
    "\n",
    "theta = 10**-5           #critério de parada\n",
    "gamma = 0.9              #valor de desconto\n",
    "value_old = np.zeros(25) #inicialização dos Valores de estados (V(s)) no vetor -> todos 0\n",
    "\n",
    "observations()\n",
    "\n",
    "value_map = value_iteration(theta, gamma, value_old)\n",
    "\n",
    "print('Observations: ' + str(observations()))\n",
    "\n",
    "plotv(value_map)\n"
   ]
  },
  {
   "cell_type": "markdown",
   "metadata": {},
   "source": [
    "Answer:\n",
    "\n",
    "The number of observations were 1000.\n",
    "\n",
    "The resulting V is different from previous exercises, and different in every run of the algorithm. This happens due to the randomness of this method, although if we visit all the states an infinite number of times, the convergence will happen.\n",
    "\n",
    "Policies vary accordingly with the states chosen. In that way, again, for each exercise 1.5 algorithm execution, the resulting policie will be different because 250 random states is not enough to converge. if much more states were visited randomly, it is more likely that the results obtained for different runs would be the same."
   ]
  },
  {
   "cell_type": "markdown",
   "metadata": {},
   "source": []
  }
 ],
 "metadata": {
  "kernelspec": {
   "display_name": "Python 3",
   "language": "python",
   "name": "python3"
  },
  "language_info": {
   "codemirror_mode": {
    "name": "ipython",
    "version": 3
   },
   "file_extension": ".py",
   "mimetype": "text/x-python",
   "name": "python",
   "nbconvert_exporter": "python",
   "pygments_lexer": "ipython3",
   "version": "3.7.6"
  }
 },
 "nbformat": 4,
 "nbformat_minor": 2
}
